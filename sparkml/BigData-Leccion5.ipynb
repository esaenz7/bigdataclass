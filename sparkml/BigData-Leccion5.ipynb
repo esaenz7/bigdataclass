{
 "cells": [
  {
   "cell_type": "markdown",
   "metadata": {
    "colab_type": "text",
    "id": "FYCK8Y-lTb3O"
   },
   "source": [
    "![logo](https://jupyter.org/assets/nav_logo.svg \"Logo\")\n",
    "\n",
    "# Módulo 4 - BigData\n",
    "\n",
    "Autor: Juan Esquivel"
   ]
  },
  {
   "cell_type": "markdown",
   "metadata": {
    "colab_type": "text",
    "id": "cXPbCqJLTb3Q"
   },
   "source": [
    "# Entrenamiento de modelos\n",
    "\n",
    "Dedicaremos esta lección para el desarrollo de un ejemplo de entrenamiento de un modelo básico, de principio a fin, en Apache Spark. Iniciaremos desde la lectura de los datos, limpieza de los mismos, análisis descriptivo, almacenamiento intermedio y entrenamiento de un modelo de regresión.\n",
    "\n",
    "Para esta actividad utilizaremos un conjunto de datos relacionado con la predicción del precio de viviendas, que se puede descargar desde https://www.kaggle.com/harlfoxem/housesalesprediction"
   ]
  },
  {
   "cell_type": "markdown",
   "metadata": {
    "colab_type": "text",
    "id": "BvlqRf1PTb3R"
   },
   "source": [
    "# Lectura y limpieza\n",
    "Como hemos visto en módulos anteriores, una de las tareas más comunes al procesar datos es el ajuste y limpieza de los datos. Este ejemplo refleja esta situación. En las celdas siguientes leeremos los datos de un archivo CSV y realizaremos diferentes pasos para poder cargar los datos a una tabla en PostgreSQL que almacenará el conjunto de datos en su forma deseada para abordar el análisis."
   ]
  },
  {
   "cell_type": "code",
   "execution_count": 22,
   "metadata": {
    "colab": {},
    "colab_type": "code",
    "id": "pBbCLAzXTb3S",
    "outputId": "0bf8d265-bd7c-40ee-e9cd-c5c01cbf30b7"
   },
   "outputs": [
    {
     "name": "stdout",
     "output_type": "stream",
     "text": [
      "root\n",
      " |-- id: string (nullable = true)\n",
      " |-- date: string (nullable = true)\n",
      " |-- price: string (nullable = true)\n",
      " |-- bedrooms: integer (nullable = true)\n",
      " |-- bathrooms: float (nullable = true)\n",
      " |-- sqft_living: integer (nullable = true)\n",
      " |-- sqft_lot: integer (nullable = true)\n",
      " |-- floors: string (nullable = true)\n",
      " |-- waterfront: integer (nullable = true)\n",
      " |-- view: integer (nullable = true)\n",
      " |-- condition: integer (nullable = true)\n",
      " |-- grade: integer (nullable = true)\n",
      " |-- sqft_above: integer (nullable = true)\n",
      " |-- sqft_basement: integer (nullable = true)\n",
      " |-- yr_built: integer (nullable = true)\n",
      " |-- yr_renovated: integer (nullable = true)\n",
      " |-- zipcode: string (nullable = true)\n",
      " |-- lat: float (nullable = true)\n",
      " |-- long: float (nullable = true)\n",
      " |-- sqft_living15: integer (nullable = true)\n",
      " |-- sqft_lot15: integer (nullable = true)\n",
      "\n",
      "+----------+---------------+----------+--------+---------+-----------+--------+------+----------+----+---------+-----+----------+-------------+--------+------------+-------+-------+--------+-------------+----------+\n",
      "|        id|           date|     price|bedrooms|bathrooms|sqft_living|sqft_lot|floors|waterfront|view|condition|grade|sqft_above|sqft_basement|yr_built|yr_renovated|zipcode|    lat|    long|sqft_living15|sqft_lot15|\n",
      "+----------+---------------+----------+--------+---------+-----------+--------+------+----------+----+---------+-----+----------+-------------+--------+------------+-------+-------+--------+-------------+----------+\n",
      "|7129300520|20141013T000000|    221900|       3|      1.0|       1180|    5650|     1|         0|   0|        3|    7|      1180|            0|    1955|           0|  98178|47.5112|-122.257|         1340|      5650|\n",
      "|6414100192|20141209T000000|    538000|       3|     2.25|       2570|    7242|     2|         0|   0|        3|    7|      2170|          400|    1951|        1991|  98125| 47.721|-122.319|         1690|      7639|\n",
      "|5631500400|20150225T000000|    180000|       2|      1.0|        770|   10000|     1|         0|   0|        3|    6|       770|            0|    1933|           0|  98028|47.7379|-122.233|         2720|      8062|\n",
      "|2487200875|20141209T000000|    604000|       4|      3.0|       1960|    5000|     1|         0|   0|        5|    7|      1050|          910|    1965|           0|  98136|47.5208|-122.393|         1360|      5000|\n",
      "|1954400510|20150218T000000|    510000|       3|      2.0|       1680|    8080|     1|         0|   0|        3|    8|      1680|            0|    1987|           0|  98074|47.6168|-122.045|         1800|      7503|\n",
      "|7237550310|20140512T000000|1.225e+006|       4|      4.5|       5420|  101930|     1|         0|   0|        3|   11|      3890|         1530|    2001|           0|  98053|47.6561|-122.005|         4760|    101930|\n",
      "|1321400060|20140627T000000|    257500|       3|     2.25|       1715|    6819|     2|         0|   0|        3|    7|      1715|            0|    1995|           0|  98003|47.3097|-122.327|         2238|      6819|\n",
      "|2008000270|20150115T000000|    291850|       3|      1.5|       1060|    9711|     1|         0|   0|        3|    7|      1060|            0|    1963|           0|  98198|47.4095|-122.315|         1650|      9711|\n",
      "|2414600126|20150415T000000|    229500|       3|      1.0|       1780|    7470|     1|         0|   0|        3|    7|      1050|          730|    1960|           0|  98146|47.5123|-122.337|         1780|      8113|\n",
      "|3793500160|20150312T000000|    323000|       3|      2.5|       1890|    6560|     2|         0|   0|        3|    7|      1890|            0|    2003|           0|  98038|47.3684|-122.031|         2390|      7570|\n",
      "|1736800520|20150403T000000|    662500|       3|      2.5|       3560|    9796|     1|         0|   0|        3|    8|      1860|         1700|    1965|           0|  98007|47.6007|-122.145|         2210|      8925|\n",
      "|9212900260|20140527T000000|    468000|       2|      1.0|       1160|    6000|     1|         0|   0|        4|    7|       860|          300|    1942|           0|  98115|  47.69|-122.292|         1330|      6000|\n",
      "|0114101516|20140528T000000|    310000|       3|      1.0|       1430|   19901|   1.5|         0|   0|        4|    7|      1430|            0|    1927|           0|  98028|47.7558|-122.229|         1780|     12697|\n",
      "|6054650070|20141007T000000|    400000|       3|     1.75|       1370|    9680|     1|         0|   0|        4|    7|      1370|            0|    1977|           0|  98074|47.6127|-122.045|         1370|     10208|\n",
      "|1175000570|20150312T000000|    530000|       5|      2.0|       1810|    4850|   1.5|         0|   0|        3|    7|      1810|            0|    1900|           0|  98107|  47.67|-122.394|         1360|      4850|\n",
      "|9297300055|20150124T000000|    650000|       4|      3.0|       2950|    5000|     2|         0|   3|        3|    9|      1980|          970|    1979|           0|  98126|47.5714|-122.375|         2140|      4000|\n",
      "|1875500060|20140731T000000|    395000|       3|      2.0|       1890|   14040|     2|         0|   0|        3|    7|      1890|            0|    1994|           0|  98019|47.7277|-121.962|         1890|     14018|\n",
      "|6865200140|20140529T000000|    485000|       4|      1.0|       1600|    4300|   1.5|         0|   0|        4|    7|      1600|            0|    1916|           0|  98103|47.6648|-122.343|         1610|      4300|\n",
      "|0016000397|20141205T000000|    189000|       2|      1.0|       1200|    9850|     1|         0|   0|        4|    7|      1200|            0|    1921|           0|  98002|47.3089| -122.21|         1060|      5095|\n",
      "|7983200060|20150424T000000|    230000|       3|      1.0|       1250|    9774|     1|         0|   0|        4|    7|      1250|            0|    1969|           0|  98003|47.3343|-122.306|         1280|      8850|\n",
      "+----------+---------------+----------+--------+---------+-----------+--------+------+----------+----+---------+-----+----------+-------------+--------+------------+-------+-------+--------+-------------+----------+\n",
      "only showing top 20 rows\n",
      "\n"
     ]
    }
   ],
   "source": [
    "# Cargar el conjunto de datos completo. Este paso no realiza ningún ajuste; simplemente lectura\n",
    "import findspark\n",
    "findspark.init('/usr/lib/python3.7/site-packages/pyspark')\n",
    "\n",
    "from pyspark.sql.types import (StringType, IntegerType, FloatType, \n",
    "                               DecimalType, StructField, StructType)\n",
    "\n",
    "from pyspark.sql import SparkSession\n",
    "\n",
    "spark = SparkSession \\\n",
    "    .builder \\\n",
    "    .appName(\"Basic JDBC pipeline\") \\\n",
    "    .config(\"spark.driver.extraClassPath\", \"postgresql-42.2.14.jar\") \\\n",
    "    .config(\"spark.executor.extraClassPath\", \"postgresql-42.2.14.jar\") \\\n",
    "    .getOrCreate()\n",
    "\n",
    "houses_df = spark \\\n",
    "    .read \\\n",
    "    .format(\"csv\") \\\n",
    "    .option(\"path\", \"kc_house_data.csv\") \\\n",
    "    .option(\"header\", True) \\\n",
    "    .schema(StructType([\n",
    "                StructField(\"id\", StringType()),\n",
    "                StructField(\"date\", StringType()),\n",
    "                StructField(\"price\", StringType()),\n",
    "                StructField(\"bedrooms\", IntegerType()),\n",
    "                StructField(\"bathrooms\", FloatType()),\n",
    "                StructField(\"sqft_living\", IntegerType()),\n",
    "                StructField(\"sqft_lot\", IntegerType()),\n",
    "                StructField(\"floors\", StringType()),\n",
    "                StructField(\"waterfront\", IntegerType()),\n",
    "                StructField(\"view\", IntegerType()),\n",
    "                StructField(\"condition\", IntegerType()),\n",
    "                StructField(\"grade\", IntegerType()),\n",
    "                StructField(\"sqft_above\", IntegerType()),\n",
    "                StructField(\"sqft_basement\", IntegerType()),\n",
    "                StructField(\"yr_built\", IntegerType()),\n",
    "                StructField(\"yr_renovated\", IntegerType()),\n",
    "                StructField(\"zipcode\", StringType()),\n",
    "                StructField(\"lat\", FloatType()),\n",
    "                StructField(\"long\", FloatType()),\n",
    "                StructField(\"sqft_living15\", IntegerType()),\n",
    "                StructField(\"sqft_lot15\", IntegerType())])) \\\n",
    "    .load()\n",
    "\n",
    "houses_df.printSchema()\n",
    "houses_df.show()"
   ]
  },
  {
   "cell_type": "code",
   "execution_count": 23,
   "metadata": {
    "colab": {},
    "colab_type": "code",
    "id": "TeCBV1AGTb3X",
    "outputId": "87a92ff5-f247-4a75-e470-8c6e7acf2ad1"
   },
   "outputs": [
    {
     "name": "stdout",
     "output_type": "stream",
     "text": [
      "+--------+---------+-----------+--------+------+---------+--------+----------+\n",
      "|bedrooms|bathrooms|sqft_living|sqft_lot|floors|condition|yr_built|     price|\n",
      "+--------+---------+-----------+--------+------+---------+--------+----------+\n",
      "|       3|      1.0|       1180|    5650|     1|        3|    1955|    221900|\n",
      "|       3|     2.25|       2570|    7242|     2|        3|    1951|    538000|\n",
      "|       2|      1.0|        770|   10000|     1|        3|    1933|    180000|\n",
      "|       4|      3.0|       1960|    5000|     1|        5|    1965|    604000|\n",
      "|       3|      2.0|       1680|    8080|     1|        3|    1987|    510000|\n",
      "|       4|      4.5|       5420|  101930|     1|        3|    2001|1.225e+006|\n",
      "|       3|     2.25|       1715|    6819|     2|        3|    1995|    257500|\n",
      "|       3|      1.5|       1060|    9711|     1|        3|    1963|    291850|\n",
      "|       3|      1.0|       1780|    7470|     1|        3|    1960|    229500|\n",
      "|       3|      2.5|       1890|    6560|     2|        3|    2003|    323000|\n",
      "|       3|      2.5|       3560|    9796|     1|        3|    1965|    662500|\n",
      "|       2|      1.0|       1160|    6000|     1|        4|    1942|    468000|\n",
      "|       3|      1.0|       1430|   19901|   1.5|        4|    1927|    310000|\n",
      "|       3|     1.75|       1370|    9680|     1|        4|    1977|    400000|\n",
      "|       5|      2.0|       1810|    4850|   1.5|        3|    1900|    530000|\n",
      "|       4|      3.0|       2950|    5000|     2|        3|    1979|    650000|\n",
      "|       3|      2.0|       1890|   14040|     2|        3|    1994|    395000|\n",
      "|       4|      1.0|       1600|    4300|   1.5|        4|    1916|    485000|\n",
      "|       2|      1.0|       1200|    9850|     1|        4|    1921|    189000|\n",
      "|       3|      1.0|       1250|    9774|     1|        4|    1969|    230000|\n",
      "+--------+---------+-----------+--------+------+---------+--------+----------+\n",
      "only showing top 20 rows\n",
      "\n"
     ]
    }
   ],
   "source": [
    "# Seleccionar un subconjunto de las columnas de interés y el objectivo que es el precio\n",
    "columns_kept = ['bedrooms', 'bathrooms', 'sqft_living', 'sqft_lot',\n",
    "                'floors', 'condition', 'yr_built', 'price']\n",
    "selected_columns_df = houses_df.select(columns_kept)\n",
    "\n",
    "selected_columns_df.show()"
   ]
  },
  {
   "cell_type": "code",
   "execution_count": 24,
   "metadata": {
    "colab": {},
    "colab_type": "code",
    "id": "nrI9A9WcTb3a",
    "outputId": "16ccba9f-a52b-45da-908a-68aee8a0e5c5"
   },
   "outputs": [
    {
     "name": "stdout",
     "output_type": "stream",
     "text": [
      "+--------+---------+-----------+--------+------+---------+--------+-------+\n",
      "|bedrooms|bathrooms|sqft_living|sqft_lot|floors|condition|yr_built|  price|\n",
      "+--------+---------+-----------+--------+------+---------+--------+-------+\n",
      "|       3|      1.0|       1180|    5650|   1.0|        3|    1955| 221900|\n",
      "|       3|     2.25|       2570|    7242|   2.0|        3|    1951| 538000|\n",
      "|       2|      1.0|        770|   10000|   1.0|        3|    1933| 180000|\n",
      "|       4|      3.0|       1960|    5000|   1.0|        5|    1965| 604000|\n",
      "|       3|      2.0|       1680|    8080|   1.0|        3|    1987| 510000|\n",
      "|       4|      4.5|       5420|  101930|   1.0|        3|    2001|1225000|\n",
      "|       3|     2.25|       1715|    6819|   2.0|        3|    1995| 257500|\n",
      "|       3|      1.5|       1060|    9711|   1.0|        3|    1963| 291850|\n",
      "|       3|      1.0|       1780|    7470|   1.0|        3|    1960| 229500|\n",
      "|       3|      2.5|       1890|    6560|   2.0|        3|    2003| 323000|\n",
      "|       3|      2.5|       3560|    9796|   1.0|        3|    1965| 662500|\n",
      "|       2|      1.0|       1160|    6000|   1.0|        4|    1942| 468000|\n",
      "|       3|      1.0|       1430|   19901|   1.5|        4|    1927| 310000|\n",
      "|       3|     1.75|       1370|    9680|   1.0|        4|    1977| 400000|\n",
      "|       5|      2.0|       1810|    4850|   1.5|        3|    1900| 530000|\n",
      "|       4|      3.0|       2950|    5000|   2.0|        3|    1979| 650000|\n",
      "|       3|      2.0|       1890|   14040|   2.0|        3|    1994| 395000|\n",
      "|       4|      1.0|       1600|    4300|   1.5|        4|    1916| 485000|\n",
      "|       2|      1.0|       1200|    9850|   1.0|        4|    1921| 189000|\n",
      "|       3|      1.0|       1250|    9774|   1.0|        4|    1969| 230000|\n",
      "+--------+---------+-----------+--------+------+---------+--------+-------+\n",
      "only showing top 20 rows\n",
      "\n"
     ]
    }
   ],
   "source": [
    "# La cantidad de pisos y el precio fueron cargados como string. Deben ajustarse.\n",
    "correct_types_df = selected_columns_df \\\n",
    "    .withColumn('floors', selected_columns_df['floors'].cast(FloatType())) \\\n",
    "    .withColumn('price', selected_columns_df['price'].cast(DecimalType()))\n",
    "\n",
    "\n",
    "correct_types_df.show()"
   ]
  },
  {
   "cell_type": "code",
   "execution_count": 25,
   "metadata": {
    "colab": {},
    "colab_type": "code",
    "id": "-LtTt2AyTb3d"
   },
   "outputs": [],
   "source": [
    "# Almacenar el conjunto de datos limpio en la base de datos\n",
    "\n",
    "correct_types_df \\\n",
    "    .write \\\n",
    "    .format(\"jdbc\") \\\n",
    "    .mode('overwrite') \\\n",
    "    .option(\"url\", \"jdbc:postgresql://172.17.0.2:5432/postgres\") \\\n",
    "    .option(\"user\", \"postgres\") \\\n",
    "    .option(\"password\", \"testPassword\") \\\n",
    "    .option(\"dbtable\", \"houses\") \\\n",
    "    .save()"
   ]
  },
  {
   "cell_type": "markdown",
   "metadata": {
    "colab_type": "text",
    "id": "93Fc2KNTTb3f"
   },
   "source": [
    "# Inspección de datos\n",
    "Previo a entrenar el modelo es común que se realice algún tipo de descripción de los datos, para tener una idea del tipo de problema con el que nos enfrentamos. A continuación, algunas operacions útiles que podemos usar.\n"
   ]
  },
  {
   "cell_type": "code",
   "execution_count": 26,
   "metadata": {
    "colab": {},
    "colab_type": "code",
    "id": "5II3C8K8Tb3g",
    "outputId": "6b22d1ec-2fd8-45e3-b4fb-b590ddedbc39",
    "scrolled": false
   },
   "outputs": [
    {
     "name": "stdout",
     "output_type": "stream",
     "text": [
      "+--------+---------+-----------+--------+------+---------+--------+-------+\n",
      "|bedrooms|bathrooms|sqft_living|sqft_lot|floors|condition|yr_built|  price|\n",
      "+--------+---------+-----------+--------+------+---------+--------+-------+\n",
      "|       3|      1.0|       1180|    5650|   1.0|        3|    1955| 221900|\n",
      "|       3|     2.25|       2570|    7242|   2.0|        3|    1951| 538000|\n",
      "|       2|      1.0|        770|   10000|   1.0|        3|    1933| 180000|\n",
      "|       4|      3.0|       1960|    5000|   1.0|        5|    1965| 604000|\n",
      "|       3|      2.0|       1680|    8080|   1.0|        3|    1987| 510000|\n",
      "|       4|      4.5|       5420|  101930|   1.0|        3|    2001|1225000|\n",
      "|       3|     2.25|       1715|    6819|   2.0|        3|    1995| 257500|\n",
      "|       3|      1.5|       1060|    9711|   1.0|        3|    1963| 291850|\n",
      "|       3|      1.0|       1780|    7470|   1.0|        3|    1960| 229500|\n",
      "|       3|      2.5|       1890|    6560|   2.0|        3|    2003| 323000|\n",
      "|       3|      2.5|       3560|    9796|   1.0|        3|    1965| 662500|\n",
      "|       2|      1.0|       1160|    6000|   1.0|        4|    1942| 468000|\n",
      "|       3|      1.0|       1430|   19901|   1.5|        4|    1927| 310000|\n",
      "|       3|     1.75|       1370|    9680|   1.0|        4|    1977| 400000|\n",
      "|       5|      2.0|       1810|    4850|   1.5|        3|    1900| 530000|\n",
      "|       4|      3.0|       2950|    5000|   2.0|        3|    1979| 650000|\n",
      "|       3|      2.0|       1890|   14040|   2.0|        3|    1994| 395000|\n",
      "|       4|      1.0|       1600|    4300|   1.5|        4|    1916| 485000|\n",
      "|       2|      1.0|       1200|    9850|   1.0|        4|    1921| 189000|\n",
      "|       3|      1.0|       1250|    9774|   1.0|        4|    1969| 230000|\n",
      "+--------+---------+-----------+--------+------+---------+--------+-------+\n",
      "only showing top 20 rows\n",
      "\n"
     ]
    }
   ],
   "source": [
    "# Cargar el conjunto de datos. Esta vez desde la base de datos\n",
    "\n",
    "# Reading single DataFrame in Spark by retrieving all rows from a DB table.\n",
    "df = spark \\\n",
    "    .read \\\n",
    "    .format(\"jdbc\") \\\n",
    "    .option(\"url\", \"jdbc:postgresql://172.17.0.2:5432/postgres\") \\\n",
    "    .option(\"user\", \"postgres\") \\\n",
    "    .option(\"password\", \"testPassword\") \\\n",
    "    .option(\"dbtable\", \"houses\") \\\n",
    "    .load()\n",
    "\n",
    "df.show()"
   ]
  },
  {
   "cell_type": "code",
   "execution_count": 27,
   "metadata": {
    "colab": {},
    "colab_type": "code",
    "id": "AE0l-XQrTb3i",
    "outputId": "0c6d6e23-0fcf-4f32-843a-c2bea0c43490"
   },
   "outputs": [
    {
     "name": "stdout",
     "output_type": "stream",
     "text": [
      "+-------+-----------------+------------------+------------------+\n",
      "|summary|         bedrooms|            floors|          yr_built|\n",
      "+-------+-----------------+------------------+------------------+\n",
      "|  count|            21613|             21613|             21613|\n",
      "|   mean| 3.37084162309721|1.4943089807060566|1971.0051357978994|\n",
      "| stddev|0.930061831147451|0.5399888951423489|29.373410802386243|\n",
      "|    min|                0|               1.0|              1900|\n",
      "|    max|               33|               3.5|              2015|\n",
      "+-------+-----------------+------------------+------------------+\n",
      "\n"
     ]
    }
   ],
   "source": [
    "# Información descriptiva del dataframe.\n",
    "df.describe(['bedrooms', 'floors', 'yr_built']).show()"
   ]
  },
  {
   "cell_type": "code",
   "execution_count": 28,
   "metadata": {
    "colab": {},
    "colab_type": "code",
    "id": "mf87eHm0Tb3l",
    "outputId": "2f2f9241-8a13-4e29-dbda-2634ec36431b",
    "scrolled": true
   },
   "outputs": [
    {
     "name": "stdout",
     "output_type": "stream",
     "text": [
      "+--------------------+-------+\n",
      "|            features|  price|\n",
      "+--------------------+-------+\n",
      "|[3.0,1.0,1180.0,5...| 221900|\n",
      "|[3.0,2.25,2570.0,...| 538000|\n",
      "|[2.0,1.0,770.0,10...| 180000|\n",
      "|[4.0,3.0,1960.0,5...| 604000|\n",
      "|[3.0,2.0,1680.0,8...| 510000|\n",
      "|[4.0,4.5,5420.0,1...|1225000|\n",
      "|[3.0,2.25,1715.0,...| 257500|\n",
      "|[3.0,1.5,1060.0,9...| 291850|\n",
      "|[3.0,1.0,1780.0,7...| 229500|\n",
      "|[3.0,2.5,1890.0,6...| 323000|\n",
      "|[3.0,2.5,3560.0,9...| 662500|\n",
      "|[2.0,1.0,1160.0,6...| 468000|\n",
      "|[3.0,1.0,1430.0,1...| 310000|\n",
      "|[3.0,1.75,1370.0,...| 400000|\n",
      "|[5.0,2.0,1810.0,4...| 530000|\n",
      "|[4.0,3.0,2950.0,5...| 650000|\n",
      "|[3.0,2.0,1890.0,1...| 395000|\n",
      "|[4.0,1.0,1600.0,4...| 485000|\n",
      "|[2.0,1.0,1200.0,9...| 189000|\n",
      "|[3.0,1.0,1250.0,9...| 230000|\n",
      "+--------------------+-------+\n",
      "only showing top 20 rows\n",
      "\n"
     ]
    }
   ],
   "source": [
    "# Para realizar operaciones más detalladas es necesario expresar las filas originales en vectores\n",
    "from pyspark.ml.feature import VectorAssembler\n",
    "\n",
    "assembler = VectorAssembler(\n",
    "    inputCols=['bedrooms', 'bathrooms', 'sqft_living', 'sqft_lot',\n",
    "               'floors', 'condition', 'yr_built'],\n",
    "    outputCol='features')\n",
    "\n",
    "vector_df = assembler.transform(df)\n",
    "vector_df = vector_df.select(['features', 'price'])\n",
    "vector_df.show()\n"
   ]
  },
  {
   "cell_type": "code",
   "execution_count": 29,
   "metadata": {
    "colab": {},
    "colab_type": "code",
    "id": "RbaZdhT3Tb3n",
    "outputId": "98906a43-fafb-4761-b434-9b99c186ee96"
   },
   "outputs": [
    {
     "name": "stderr",
     "output_type": "stream",
     "text": [
      "21/08/20 19:21:38 WARN BLAS: Failed to load implementation from: com.github.fommil.netlib.NativeSystemBLAS\n",
      "21/08/20 19:21:38 WARN BLAS: Failed to load implementation from: com.github.fommil.netlib.NativeRefBLAS\n"
     ]
    },
    {
     "data": {
      "text/plain": [
       "<AxesSubplot:>"
      ]
     },
     "execution_count": 29,
     "metadata": {},
     "output_type": "execute_result"
    },
    {
     "data": {
      "image/png": "[encoded data removed]",
      "text/plain": [
       "<Figure size 432x288 with 2 Axes>"
      ]
     },
     "metadata": {
      "needs_background": "light"
     },
     "output_type": "display_data"
    }
   ],
   "source": [
    "# Con la representación de vectores podemos calcular correlaciones\n",
    "from pyspark.ml.stat import Correlation\n",
    "import seaborn as sns\n",
    "import matplotlib.pyplot as plt\n",
    "\n",
    "pearson_matrix = Correlation.corr(vector_df, 'features').collect()[0][0]\n",
    "\n",
    "sns.heatmap(pearson_matrix.toArray(), annot=True, fmt=\".2f\", cmap='viridis')"
   ]
  },
  {
   "cell_type": "markdown",
   "metadata": {
    "colab_type": "text",
    "id": "2yFnobBFTb3q"
   },
   "source": [
    "# Estandarización\n",
    "Como recordamos de los módulos anteriores es deseable que los datos se encuentren estandarizados o normalizados, para evitar que la magnitud de ciertos atributos dominen el proceso de entrenamiento. El módulo `pyspark.ml.feature` tiene varias alternativas. A continuación se presenta una."
   ]
  },
  {
   "cell_type": "code",
   "execution_count": 30,
   "metadata": {
    "colab": {},
    "colab_type": "code",
    "id": "d-15zk2zTb3r",
    "outputId": "2691dd1d-b936-4e4e-c786-b858c0e087e2"
   },
   "outputs": [
    {
     "name": "stdout",
     "output_type": "stream",
     "text": [
      "+--------------------+-------+--------------------+\n",
      "|            features|  price|              scaled|\n",
      "+--------------------+-------+--------------------+\n",
      "|[3.0,1.0,1180.0,5...| 221900|[3.22559199779093...|\n",
      "|[3.0,2.25,2570.0,...| 538000|[3.22559199779093...|\n",
      "|[2.0,1.0,770.0,10...| 180000|[2.15039466519395...|\n",
      "|[4.0,3.0,1960.0,5...| 604000|[4.30078933038790...|\n",
      "|[3.0,2.0,1680.0,8...| 510000|[3.22559199779093...|\n",
      "|[4.0,4.5,5420.0,1...|1225000|[4.30078933038790...|\n",
      "|[3.0,2.25,1715.0,...| 257500|[3.22559199779093...|\n",
      "|[3.0,1.5,1060.0,9...| 291850|[3.22559199779093...|\n",
      "|[3.0,1.0,1780.0,7...| 229500|[3.22559199779093...|\n",
      "|[3.0,2.5,1890.0,6...| 323000|[3.22559199779093...|\n",
      "|[3.0,2.5,3560.0,9...| 662500|[3.22559199779093...|\n",
      "|[2.0,1.0,1160.0,6...| 468000|[2.15039466519395...|\n",
      "|[3.0,1.0,1430.0,1...| 310000|[3.22559199779093...|\n",
      "|[3.0,1.75,1370.0,...| 400000|[3.22559199779093...|\n",
      "|[5.0,2.0,1810.0,4...| 530000|[5.37598666298488...|\n",
      "|[4.0,3.0,2950.0,5...| 650000|[4.30078933038790...|\n",
      "|[3.0,2.0,1890.0,1...| 395000|[3.22559199779093...|\n",
      "|[4.0,1.0,1600.0,4...| 485000|[4.30078933038790...|\n",
      "|[2.0,1.0,1200.0,9...| 189000|[2.15039466519395...|\n",
      "|[3.0,1.0,1250.0,9...| 230000|[3.22559199779093...|\n",
      "+--------------------+-------+--------------------+\n",
      "only showing top 20 rows\n",
      "\n"
     ]
    }
   ],
   "source": [
    "from pyspark.ml.feature import StandardScaler\n",
    "\n",
    "standard_scaler = StandardScaler(inputCol='features', outputCol='scaled')\n",
    "scale_model = standard_scaler.fit(vector_df)\n",
    "\n",
    "scaled_df = scale_model.transform(vector_df)\n",
    "scaled_df.show()"
   ]
  },
  {
   "cell_type": "markdown",
   "metadata": {
    "colab_type": "text",
    "id": "bv62COlLTb3t"
   },
   "source": [
    "# Regresión lineal\n",
    "Como ejemplo de un tipo de modelo a entrenar usaremos una regresión lineal básica para tratar de predecir el precio. Para ellos utilizaremos los datos estandarizados."
   ]
  },
  {
   "cell_type": "code",
   "execution_count": 31,
   "metadata": {
    "colab": {},
    "colab_type": "code",
    "id": "o1DW64l8Tb3u",
    "outputId": "3c5aa274-e910-43a5-9c65-fab83a0b7853"
   },
   "outputs": [
    {
     "name": "stderr",
     "output_type": "stream",
     "text": [
      "21/08/20 19:21:40 WARN Instrumentation: [f955b519] regParam is zero, which might cause numerical instability and overfitting.\n",
      "21/08/20 19:21:40 WARN LAPACK: Failed to load implementation from: com.github.fommil.netlib.NativeSystemLAPACK\n",
      "21/08/20 19:21:40 WARN LAPACK: Failed to load implementation from: com.github.fommil.netlib.NativeRefLAPACK\n"
     ]
    },
    {
     "name": "stdout",
     "output_type": "stream",
     "text": [
      "Pesos: [-64395.47318687582,50862.92091861797,278511.11197487527,-12339.081074522004,30946.977799688528,11683.836709724465,-94825.53343750679]\n",
      " b: 6223698.139208419\n",
      "RMSE: 244323.53190293963 r2: 0.5570878698871067\n",
      "+-------+------------------+\n",
      "|summary|             price|\n",
      "+-------+------------------+\n",
      "|  count|             21613|\n",
      "|   mean|       540088.1418|\n",
      "| stddev|367127.19648270035|\n",
      "|    min|             75000|\n",
      "|    max|           7700000|\n",
      "+-------+------------------+\n",
      "\n"
     ]
    }
   ],
   "source": [
    "# Nótese que no se hace partición de datos de entrenamiento (ejercicio posterior).\n",
    "from pyspark.ml.regression import LinearRegression\n",
    "\n",
    "regression = LinearRegression(featuresCol='scaled', labelCol='price')\n",
    "regression_model = regression.fit(scaled_df)\n",
    "\n",
    "print('Pesos: {}\\n b: {}'.format(regression_model.coefficients, regression_model.intercept))\n",
    "\n",
    "print('RMSE: {} r2: {}'.format(\n",
    "    regression_model.summary.rootMeanSquaredError,\n",
    "    regression_model.summary.r2))\n",
    "\n",
    "scaled_df.describe().show()\n",
    "\n",
    "# Si se quiere hacer predicciones nada más se requiere llamar a regression_model.transform(df)\n",
    "# Esto regresa el dataset con una columna nueva"
   ]
  },
  {
   "cell_type": "markdown",
   "metadata": {
    "colab_type": "text",
    "id": "c51g7LCKTb3x"
   },
   "source": [
    "# Ejercicio\n",
    "- Dividir los datos leídos desde la base de datos en dos conjuntos utilizando las funcionalidades de muestreo de Spark.\n",
    "- Entrene el modelo en uno y evalúe en otro. Escriba los resultados evaluados en una tabla en Postgresql.\n",
    "- Implementar un esquema de k-fold cross validation. Evalúe los resultados según RMSE y r2.\n",
    "- Pruebe diferentes parámetros a la regresión.\n",
    "- Pruebe diferentes tipos de regresión."
   ]
  },
  {
   "cell_type": "code",
   "execution_count": 32,
   "metadata": {},
   "outputs": [
    {
     "name": "stdout",
     "output_type": "stream",
     "text": [
      "Linux\n",
      "/host_data/sparkml\n",
      "1: lo: <LOOPBACK,UP,LOWER_UP> mtu 65536 qdisc noqueue state UNKNOWN qlen 1000\n",
      "    link/loopback 00:00:00:00:00:00 brd 00:00:00:00:00:00\n",
      "    inet 127.0.0.1/8 scope host lo\n",
      "       valid_lft forever preferred_lft forever\n",
      "89: eth0@if90: <BROADCAST,MULTICAST,UP,LOWER_UP,M-DOWN> mtu 1500 qdisc noqueue state UP \n",
      "    link/ether 02:42:ac:11:00:03 brd ff:ff:ff:ff:ff:ff\n",
      "    inet 172.17.0.3/16 brd 172.17.255.255 scope global eth0\n",
      "       valid_lft forever preferred_lft forever\n"
     ]
    }
   ],
   "source": [
    "!uname\n",
    "!pwd\n",
    "!ip a\n",
    "# !psql -h 127.0.0.1 -p 5433 -U postgres --password 'testPassword'"
   ]
  },
  {
   "cell_type": "code",
   "execution_count": null,
   "metadata": {},
   "outputs": [],
   "source": []
  }
 ],
 "metadata": {
  "celltoolbar": "Edit Metadata",
  "colab": {
   "name": "BigData-Leccion5.ipynb",
   "provenance": []
  },
  "interpreter": {
   "hash": "f9415b84369d2f75e4e7d5e292c6476627d371ccdefb714b1cdcdad809a08844"
  },
  "kernelspec": {
   "display_name": "Python 3 (ipykernel)",
   "language": "python",
   "name": "python3"
  },
  "language_info": {
   "codemirror_mode": {
    "name": "ipython",
    "version": 3
   },
   "file_extension": ".py",
   "mimetype": "text/x-python",
   "name": "python",
   "nbconvert_exporter": "python",
   "pygments_lexer": "ipython3",
   "version": "3.7.10"
  }
 },
 "nbformat": 4,
 "nbformat_minor": 1
}
