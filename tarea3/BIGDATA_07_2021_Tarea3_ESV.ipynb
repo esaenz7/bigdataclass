{
  "nbformat": 4,
  "nbformat_minor": 0,
  "metadata": {
    "celltoolbar": "Edit Metadata",
    "colab": {
      "name": "BIGDATA_07_2021_Tarea3_ESV.ipynb",
      "provenance": [],
      "collapsed_sections": [
        "n8CoyVNZI012"
      ]
    },
    "kernelspec": {
      "display_name": "Python 3",
      "language": "python",
      "name": "python3"
    },
    "language_info": {
      "codemirror_mode": {
        "name": "ipython",
        "version": 3
      },
      "file_extension": ".py",
      "mimetype": "text/x-python",
      "name": "python",
      "nbconvert_exporter": "python",
      "pygments_lexer": "ipython3",
      "version": "3.8.4"
    }
  },
  "cells": [
    {
      "cell_type": "markdown",
      "metadata": {
        "id": "FYCK8Y-lTb3O"
      },
      "source": [
        "![logo](https://www.tec.ac.cr/sites/default/files/media/branding/logo-tec.png \"TEC\")\n",
        "\n",
        "# Big Data, Programa de Ciencia de los Datos\n",
        "## Tarea #3\n",
        "\n",
        "* **Esteban Sáenz Villalobos** (**esaenz7@gmail.com**)\n",
        "* Entrega: 29 de agosto 2021, 23:00.\n",
        "* Observaciones: Trabajo elaborado desde Google Colab. Ejecutar cada celda de código de forma secuencial.\n",
        "\n",
        "\n",
        "## Objetivo\n",
        "EjecutarelprocesodeextraccióndedatosyentrenamientodeunmodeloenApacheSparkdeprincipio a fin.\n",
        "\n",
        "## Resultados esperados para esta asignación\n",
        "Para esta asignación los estudiantes deberán entregar un Jupyter Notebook donde se entrene un modelo de clasificación binaria, basada en algún conjunto de datos de su escogencia (e.g. conjuntos de kaggle).\n",
        "\n",
        "El notebook deberá ser autocontenido en su ejecución y análisis de resultados, utilizando una instancia de postgresql como apoyo, ejecutada a través de un contenedor, como hemos hecho hasta el momento. El notebook deberá ejecutarse desde un contenedor Docker. Se espera que los estudiantes se basen en infraestructura Spark y no en código secuencial hecho en Python. El uso del framework será parte de lo evaluado en la asignación.\n",
        "\n",
        "## Consideraciones generales\n",
        "\n",
        "Para obtener el puntaje de cada uno de los rubros los estudiantes deberán mostrar suficiente información en la salida del Jupyter Notebook para demostrar que se cumple con lo pedido.\n",
        "Como el Jupyter Notebook deberá correrse sobre un contenedor, deberá entregarse un archivo comprimido que contenga el análogo al repositorio con un Dockerfile, además de un PDF con todas las instrucciones necesarias para poder ejecutar exitosamente el código del Notebook.\n",
        "\n",
        "---"
      ]
    },
    {
      "cell_type": "markdown",
      "metadata": {
        "id": "n8CoyVNZI012"
      },
      "source": [
        "## Código para Google Colab únicamente"
      ]
    },
    {
      "cell_type": "code",
      "metadata": {
        "colab": {
          "base_uri": "https://localhost:8080/",
          "height": 100
        },
        "id": "d7u4BuPT9Xr6",
        "outputId": "ab33b772-eca4-4b09-ff91-0c3af9d82119"
      },
      "source": [
        "'''\n",
        "Instalación de PySpark en Colab\n",
        "'''\n",
        "from IPython.display import Javascript\n",
        "##@title spark-submit programaestudiante.py { vertical-output: true, form-width: \"50%\", display-mode: \"both\" }\n",
        "display(Javascript('''google.colab.output.setIframeHeight(0, true, {maxHeight: 100})'''))\n",
        "!apt-get install openjdk-8-jdk-headless -qq > /dev/null\n",
        "import requests, os\n",
        "from bs4 import BeautifulSoup\n",
        "#obtener las versiones de spark e instalar la última disponile\n",
        "soup = BeautifulSoup(requests.get('https://downloads.apache.org/spark/').text)\n",
        "link_files = []\n",
        "[link_files.append(link.get('href')) for link in soup.find_all('a')]\n",
        "spark_link = [x for x in link_files if 'spark' in x]\n",
        "ver_spark = spark_link[-1][:-1]\n",
        "os.system(f\"wget -q https://www-us.apache.org/dist/spark/{ver_spark}/{ver_spark}-bin-hadoop3.2.tgz\")\n",
        "os.system(f\"tar xf {ver_spark}-bin-hadoop2.7.tgz\")\n",
        "#instalar pyspark\n",
        "!pip install -q pyspark\n",
        "!pip --version\n",
        "!pyspark --version\n",
        "!pip install findspark"
      ],
      "execution_count": 9,
      "outputs": [
        {
          "output_type": "display_data",
          "data": {
            "application/javascript": [
              "google.colab.output.setIframeHeight(0, true, {maxHeight: 100})"
            ],
            "text/plain": [
              "<IPython.core.display.Javascript object>"
            ]
          },
          "metadata": {}
        },
        {
          "output_type": "stream",
          "text": [
            "pip 21.1.3 from /usr/local/lib/python3.7/dist-packages/pip (python 3.7)\n",
            "/usr/local/bin/pyspark: line 24: /usr/lib/python3.7/site-packages/pyspark/bin/load-spark-env.sh: No such file or directory\n",
            "/usr/local/bin/pyspark: line 68: /usr/lib/python3.7/site-packages/pyspark/bin/spark-submit: No such file or directory\n",
            "Requirement already satisfied: findspark in /usr/local/lib/python3.7/dist-packages (1.4.2)\n"
          ],
          "name": "stdout"
        }
      ]
    },
    {
      "cell_type": "markdown",
      "metadata": {
        "id": "lISkrJgn_fOY"
      },
      "source": [
        "## Datos de entrada (5 puntos)\n",
        "\n",
        "Los estudiantes podrán seleccionar un conjunto de datos de su preferencia. Se espera que se provea una descripción de los datos, donde se detalle cuál es el dominio del problema y una descripción de los diferentes atributos en el conjunto. Debe incluir explícitamente cuál es la variable de predicción a utilizar.\n"
      ]
    },
    {
      "cell_type": "code",
      "metadata": {
        "colab": {
          "base_uri": "https://localhost:8080/"
        },
        "id": "-9Uv5yCx9sC_",
        "outputId": "b1f0f89d-35f7-4275-b3ee-fb480e8a62a5"
      },
      "source": [
        "'''\n",
        "Carga de datos, librerías y sesión spark\n",
        "'''\n",
        "\n",
        "#descargar del archivo fuente\n",
        "!pip install -q gdown\n",
        "!gdown https://drive.google.com/uc?id=1dbLMJlEc_i_vGef1p4ZP1sfNTd00KBzX\n",
        "!gdown https://drive.google.com/uc?id=1RnIhzhH0yBNVjneB9b1X37HmtEKrb_20\n",
        "\n",
        "#librerías necesarias\n",
        "import sys, os, glob, datetime as dt\n",
        "import seaborn as sns, matplotlib.pyplot as plt\n",
        "from pyspark.sql import SparkSession, functions as F, window as W, DataFrame as DF\n",
        "from pyspark.sql.types import (DateType, IntegerType, FloatType, DoubleType, LongType, StringType, StructField, StructType, TimestampType)\n",
        "from pyspark.ml.feature import VectorAssembler\n",
        "from pyspark.ml.stat import Correlation\n",
        "from pyspark.ml.feature import StandardScaler\n",
        "from pyspark.ml.regression import LinearRegression\n",
        "from functools import reduce\n",
        "\n",
        "# import findspark\n",
        "# findspark.init('/usr/lib/python3.7/site-packages/pyspark')\n",
        "\n",
        "#sesión de spark\n",
        "spark = SparkSession.builder\\\n",
        "  .master(\"local\")\\\n",
        "  .appName(\"App#1\")\\\n",
        "  .config('spark.ui.port', '4050')\\\n",
        "  .config(\"spark.driver.extraClassPath\", \"postgresql-42.2.14.jar\") \\\n",
        "  .config(\"spark.executor.extraClassPath\", \"postgresql-42.2.14.jar\") \\\n",
        "  .getOrCreate()\n",
        "spark.sparkContext.setLogLevel(\"ERROR\")"
      ],
      "execution_count": 33,
      "outputs": [
        {
          "output_type": "stream",
          "text": [
            "Downloading...\n",
            "From: https://drive.google.com/uc?id=1dbLMJlEc_i_vGef1p4ZP1sfNTd00KBzX\n",
            "To: /content/6 class csv.csv\n",
            "100% 8.48k/8.48k [00:00<00:00, 15.7MB/s]\n",
            "Downloading...\n",
            "From: https://drive.google.com/uc?id=1RnIhzhH0yBNVjneB9b1X37HmtEKrb_20\n",
            "To: /content/Star3642_balanced.csv\n",
            "100% 140k/140k [00:00<00:00, 52.9MB/s]\n"
          ],
          "name": "stdout"
        }
      ]
    },
    {
      "cell_type": "markdown",
      "metadata": {
        "id": "DPROflm0_u5b"
      },
      "source": [
        "## Preprocesamiento de datos\n",
        "\n",
        "Similar al protocolo visto en clase, la primera fase deberá leer y ajustar los datos previo a la fase de entrenamiento. Se espera que los estudiantes cumplan con:\n",
        "\n",
        "  * Cargado y limpieza de datos de archivo de entrada CSV. Esto implica la definición del \"schema\" y muestras en el notebook que los datos se han cargado exitosamente (5 puntos).\n",
        "  * Gráficos y estadísticas descriptivas previo al entrenamiento. Se espera que los estudiantes muestren estadísticas descriptivas, correlaciones, etc. Ésto con el fin de entender el conjunto de datos (10 puntos).\n",
        "  * Normalización / Estandarización. Los estudiantes deberán seleccionar alguna estrategia para mitigar los problemas de escala que pueden tener las diferentes columnas del modelo (10 puntos).\n",
        "  * Escritura a base de datos. Una vez que los datos hayan sido depurados se espera que los estudiantes escriban a una tabla llamada tarea3 (con overwrite) el conjunto de datos que se utilizará como base para el entrenamiento. Los estudiantes deberán documentar en detalle cualquier instrucción necesaria para poder calificar esta sección. Los datos escritos en la base de datos no podrán estar almacenados en forma de vector. Deben ser extraídos a columnas individuales (10 puntos).\n"
      ]
    },
    {
      "cell_type": "code",
      "metadata": {
        "id": "pBbCLAzXTb3S",
        "colab": {
          "base_uri": "https://localhost:8080/"
        },
        "outputId": "d3bd46f3-f5ae-4156-f5ce-358fefd5b1fb"
      },
      "source": [
        "'''\n",
        "Lectura de datos\n",
        "'''\n",
        "\n",
        "df_stars = spark \\\n",
        "  .read \\\n",
        "  .format('csv') \\\n",
        "  .option('path', 'Star3642_balanced.csv') \\\n",
        "  .option('header', True) \\\n",
        "  .schema(StructType([\n",
        "          StructField(\"vmag\", FloatType()),\n",
        "          StructField(\"plx\", FloatType()),\n",
        "          StructField(\"eplx\", FloatType()),\n",
        "          StructField(\"bv\", FloatType()),\n",
        "          StructField(\"sptype\", StringType()),\n",
        "          StructField(\"amag\", FloatType()),\n",
        "          StructField(\"class\", IntegerType())])) \\\n",
        "  .load()\n",
        "\n",
        "df_stars.printSchema()\n",
        "df_stars.show()"
      ],
      "execution_count": 12,
      "outputs": [
        {
          "output_type": "stream",
          "text": [
            "root\n",
            " |-- vmag: float (nullable = true)\n",
            " |-- plx: float (nullable = true)\n",
            " |-- eplx: float (nullable = true)\n",
            " |-- bv: float (nullable = true)\n",
            " |-- sptype: string (nullable = true)\n",
            " |-- amag: float (nullable = true)\n",
            " |-- class: integer (nullable = true)\n",
            "\n",
            "+----+-----+----+------+---------+---------+-----+\n",
            "|vmag|  plx|eplx|    bv|   sptype|     amag|class|\n",
            "+----+-----+----+------+---------+---------+-----+\n",
            "|5.99|13.73|0.58| 1.318|    K5III|16.678352|    0|\n",
            "| 8.7| 2.31|1.29|-0.045|     B1II| 15.51806|    0|\n",
            "|5.77|  5.5|1.03| 0.855|    G5III|14.471813|    0|\n",
            "|6.72| 5.26|0.74|-0.015|      B7V|15.324928|    1|\n",
            "|8.76|13.44|1.16| 0.584|      G0V|19.401997|    1|\n",
            "| 4.9| 8.37|0.76|-0.091|    B9III|14.513628|    0|\n",
            "| 8.6| 5.09|1.37| 0.448|      F3V|17.133589|    1|\n",
            "|6.24| 8.08|1.15|  0.68|    G0III|15.777057|    0|\n",
            "|7.31| 1.86|0.87| 1.164| K0/K1III|13.657564|    0|\n",
            "|9.52| 1.28|1.33|   1.5|    K2III| 15.05605|    0|\n",
            "|6.18| 5.93| 0.7| 1.467|    K4III|15.045273|    0|\n",
            "|7.57| 8.67|0.84| 0.528|      F8V|17.260096|    1|\n",
            "|7.58| 3.47|1.03| 1.626|    M1III|15.281647|    0|\n",
            "|8.27| 1.62|0.92| 0.146|      B7V|14.317575|    1|\n",
            "|9.03| 0.24|1.28| 1.106|K0IVCN...|10.931056|    1|\n",
            "|9.79| 3.91|2.45| 0.711|   F8IV/V|17.750885|    1|\n",
            "|8.69| 1.97|0.85| 1.444|    K4III|15.162331|    0|\n",
            "| 9.1| 7.46| 1.0| 0.417|      F3V|18.463696|    1|\n",
            "|9.26|16.85|1.07| 0.831|   G6IV/V|   20.393|    1|\n",
            "|9.72|14.49|1.48| 0.845|      K0V|20.525341|    1|\n",
            "+----+-----+----+------+---------+---------+-----+\n",
            "only showing top 20 rows\n",
            "\n"
          ],
          "name": "stdout"
        }
      ]
    },
    {
      "cell_type": "code",
      "metadata": {
        "id": "TeCBV1AGTb3X",
        "colab": {
          "base_uri": "https://localhost:8080/"
        },
        "outputId": "6fbb1c94-d751-4476-e68e-414fb602f7fa"
      },
      "source": [
        "#subconjunto de interés\n",
        "df1 = df_stars\n",
        "cols = ['vmag', 'plx', 'bv', 'amag', 'class']\n",
        "df1 = df_stars.select(cols)\n",
        "df1.show()"
      ],
      "execution_count": 13,
      "outputs": [
        {
          "output_type": "stream",
          "text": [
            "+----+-----+------+---------+-----+\n",
            "|vmag|  plx|    bv|     amag|class|\n",
            "+----+-----+------+---------+-----+\n",
            "|5.99|13.73| 1.318|16.678352|    0|\n",
            "| 8.7| 2.31|-0.045| 15.51806|    0|\n",
            "|5.77|  5.5| 0.855|14.471813|    0|\n",
            "|6.72| 5.26|-0.015|15.324928|    1|\n",
            "|8.76|13.44| 0.584|19.401997|    1|\n",
            "| 4.9| 8.37|-0.091|14.513628|    0|\n",
            "| 8.6| 5.09| 0.448|17.133589|    1|\n",
            "|6.24| 8.08|  0.68|15.777057|    0|\n",
            "|7.31| 1.86| 1.164|13.657564|    0|\n",
            "|9.52| 1.28|   1.5| 15.05605|    0|\n",
            "|6.18| 5.93| 1.467|15.045273|    0|\n",
            "|7.57| 8.67| 0.528|17.260096|    1|\n",
            "|7.58| 3.47| 1.626|15.281647|    0|\n",
            "|8.27| 1.62| 0.146|14.317575|    1|\n",
            "|9.03| 0.24| 1.106|10.931056|    1|\n",
            "|9.79| 3.91| 0.711|17.750885|    1|\n",
            "|8.69| 1.97| 1.444|15.162331|    0|\n",
            "| 9.1| 7.46| 0.417|18.463696|    1|\n",
            "|9.26|16.85| 0.831|   20.393|    1|\n",
            "|9.72|14.49| 0.845|20.525341|    1|\n",
            "+----+-----+------+---------+-----+\n",
            "only showing top 20 rows\n",
            "\n"
          ],
          "name": "stdout"
        }
      ]
    },
    {
      "cell_type": "code",
      "metadata": {
        "id": "-LtTt2AyTb3d"
      },
      "source": [
        "#almacenamiento en base de datos\n",
        "# df1 \\\n",
        "#   .write \\\n",
        "#   .format(\"jdbc\") \\\n",
        "#   .mode('overwrite') \\\n",
        "#   .option(\"url\", \"jdbc:postgresql://127.0.0.1:5433/postgres\") \\\n",
        "#   .option(\"user\", \"postgres\") \\\n",
        "#   .option(\"password\", \"testPassword\") \\\n",
        "#   .option(\"dbtable\", \"stars\") \\\n",
        "#   .save()"
      ],
      "execution_count": null,
      "outputs": []
    },
    {
      "cell_type": "code",
      "metadata": {
        "id": "5II3C8K8Tb3g",
        "scrolled": false
      },
      "source": [
        "#lectura desde base de datos\n",
        "# df2 = spark \\\n",
        "#   .read \\\n",
        "#   .format(\"jdbc\") \\\n",
        "#   .option(\"url\", \"jdbc:postgresql://127.0.0.1:5433/postgres\") \\\n",
        "#   .option(\"user\", \"postgres\") \\\n",
        "#   .option(\"password\", \"testPassword\") \\\n",
        "#   .option(\"dbtable\", \"stars\") \\\n",
        "#   .load()\n",
        "df2 = df1\n",
        "# df2.show()"
      ],
      "execution_count": 14,
      "outputs": []
    },
    {
      "cell_type": "code",
      "metadata": {
        "id": "AE0l-XQrTb3i",
        "colab": {
          "base_uri": "https://localhost:8080/"
        },
        "outputId": "7910570b-7f78-4c2c-bd08-164480fbf9e8"
      },
      "source": [
        "#descripción del dataframe\n",
        "df2.describe().show()"
      ],
      "execution_count": 17,
      "outputs": [
        {
          "output_type": "stream",
          "text": [
            "+-------+------------------+------------------+------------------+------------------+------------------+\n",
            "|summary|              vmag|               plx|                bv|              amag|             class|\n",
            "+-------+------------------+------------------+------------------+------------------+------------------+\n",
            "|  count|              3642|              3642|              3642|              3642|              3642|\n",
            "|   mean|  8.12052992873307| 7.606153198425801|0.8270768809731871|16.427387719623077|               0.5|\n",
            "| stddev|1.3388753563000517|11.924051891030755|0.4366988208080772|2.4281438146202325|0.5000686577414831|\n",
            "|    min|              0.45|             -6.82|            -0.196|         2.8200002|                 0|\n",
            "|    max|             12.49|            280.27|              2.53|         29.249165|                 1|\n",
            "+-------+------------------+------------------+------------------+------------------+------------------+\n",
            "\n"
          ],
          "name": "stdout"
        }
      ]
    },
    {
      "cell_type": "code",
      "metadata": {
        "id": "mf87eHm0Tb3l",
        "scrolled": true,
        "colab": {
          "base_uri": "https://localhost:8080/"
        },
        "outputId": "2a85449c-0070-4f2e-b28b-bd3c40bef4bf"
      },
      "source": [
        "#vectorización\n",
        "dfassy = VectorAssembler(\n",
        "  inputCols=['vmag', 'plx', 'bv', 'amag'],\n",
        "  outputCol='features')\n",
        "\n",
        "dfvec = dfassy.transform(df2)\n",
        "dfvec = dfvec.select(['features', 'class'])\n",
        "dfvec.show(truncate=False)"
      ],
      "execution_count": 23,
      "outputs": [
        {
          "output_type": "stream",
          "text": [
            "+-----------------------------------------------------------------------------+-----+\n",
            "|features                                                                     |class|\n",
            "+-----------------------------------------------------------------------------+-----+\n",
            "|[5.989999771118164,13.729999542236328,1.3179999589920044,16.67835235595703]  |0    |\n",
            "|[8.699999809265137,2.309999942779541,-0.04500000178813934,15.518059730529785]|0    |\n",
            "|[5.769999980926514,5.5,0.8550000190734863,14.471813201904297]                |0    |\n",
            "|[6.71999979019165,5.260000228881836,-0.014999999664723873,15.324928283691406]|1    |\n",
            "|[8.760000228881836,13.4399995803833,0.5839999914169312,19.401996612548828]   |1    |\n",
            "|[4.900000095367432,8.369999885559082,-0.09099999815225601,14.513628005981445]|0    |\n",
            "|[8.600000381469727,5.090000152587891,0.4480000138282776,17.133588790893555]  |1    |\n",
            "|[6.239999771118164,8.079999923706055,0.6800000071525574,15.777056694030762]  |0    |\n",
            "|[7.309999942779541,1.8600000143051147,1.1640000343322754,13.657564163208008] |0    |\n",
            "|[9.520000457763672,1.2799999713897705,1.5,15.056050300598145]                |0    |\n",
            "|[6.179999828338623,5.929999828338623,1.4670000076293945,15.045272827148438]  |0    |\n",
            "|[7.570000171661377,8.670000076293945,0.527999997138977,17.260095596313477]   |1    |\n",
            "|[7.579999923706055,3.4700000286102295,1.6260000467300415,15.281646728515625] |0    |\n",
            "|[8.270000457763672,1.6200000047683716,0.1459999978542328,14.317575454711914] |1    |\n",
            "|[9.029999732971191,0.23999999463558197,1.1059999465942383,10.931056022644043]|1    |\n",
            "|[9.789999961853027,3.9100000858306885,0.7110000252723694,17.750885009765625] |1    |\n",
            "|[8.6899995803833,1.9700000286102295,1.444000005722046,15.162330627441406]    |0    |\n",
            "|[9.100000381469727,7.460000038146973,0.4169999957084656,18.463695526123047]  |1    |\n",
            "|[9.260000228881836,16.850000381469727,0.8309999704360962,20.39299964904785]  |1    |\n",
            "|[9.720000267028809,14.489999771118164,0.8450000286102295,20.525341033935547] |1    |\n",
            "+-----------------------------------------------------------------------------+-----+\n",
            "only showing top 20 rows\n",
            "\n"
          ],
          "name": "stdout"
        }
      ]
    },
    {
      "cell_type": "code",
      "metadata": {
        "id": "RbaZdhT3Tb3n",
        "colab": {
          "base_uri": "https://localhost:8080/",
          "height": 285
        },
        "outputId": "b13da1e2-0161-4b68-92da-06396c4f0b6b"
      },
      "source": [
        "#correlaciones\n",
        "pearson_matrix = Correlation.corr(dfvec, 'features').collect()[0][0]\n",
        "sns.heatmap(pearson_matrix.toArray(), annot=True, fmt=\".2f\", cmap='viridis')"
      ],
      "execution_count": 30,
      "outputs": [
        {
          "output_type": "execute_result",
          "data": {
            "text/plain": [
              "<matplotlib.axes._subplots.AxesSubplot at 0x7f564242b790>"
            ]
          },
          "metadata": {},
          "execution_count": 30
        },
        {
          "output_type": "display_data",
          "data": {
            "image/png": "[encoded data removed]",
            "text/plain": [
              "<Figure size 432x288 with 2 Axes>"
            ]
          },
          "metadata": {
            "needs_background": "light"
          }
        }
      ]
    },
    {
      "cell_type": "code",
      "metadata": {
        "id": "d-15zk2zTb3r",
        "colab": {
          "base_uri": "https://localhost:8080/"
        },
        "outputId": "13adc154-0eae-404e-fc84-b956c7f5da83"
      },
      "source": [
        "#estandarización\n",
        "standard_scaler = StandardScaler(inputCol='features', outputCol='scaled')\n",
        "scale_model = standard_scaler.fit(dfvec)\n",
        "dfscaled = scale_model.transform(dfvec)\n",
        "dfscaled.show()"
      ],
      "execution_count": 32,
      "outputs": [
        {
          "output_type": "stream",
          "text": [
            "+--------------------+-----+--------------------+\n",
            "|            features|class|              scaled|\n",
            "+--------------------+-----+--------------------+\n",
            "|[5.98999977111816...|    0|[4.47390396942653...|\n",
            "|[8.69999980926513...|    0|[6.49799084606902...|\n",
            "|[5.76999998092651...|    0|[4.30958711262844...|\n",
            "|[6.71999979019165...|    1|[5.01913771029605...|\n",
            "|[8.76000022888183...|    1|[6.54280489043421...|\n",
            "|[4.90000009536743...|    0|[3.65978809925104...|\n",
            "|[8.60000038146972...|    1|[6.42330172185378...|\n",
            "|[6.23999977111816...|    0|[4.66062784840722...|\n",
            "|[7.30999994277954...|    0|[5.45980617865769...|\n",
            "|[9.52000045776367...|    0|[7.11044565348633...|\n",
            "|[6.17999982833862...|    0|[4.61581416018956...|\n",
            "|[7.57000017166137...|    1|[5.65399918374842...|\n",
            "|[7.57999992370605...|    0|[5.66146795371093...|\n",
            "|[8.27000045776367...|    1|[6.17682625858288...|\n",
            "|[9.02999973297119...|    1|[6.74446630933992...|\n",
            "|[9.78999996185302...|    1|[7.31210707239204...|\n",
            "|[8.6899995803833,...|    0|[6.49052171995897...|\n",
            "|[9.10000038146972...|    1|[6.79674947981517...|\n",
            "|[9.26000022888183...|    1|[6.9162526483956,...|\n",
            "|[9.72000026702880...|    1|[7.25982461421187...|\n",
            "+--------------------+-----+--------------------+\n",
            "only showing top 20 rows\n",
            "\n"
          ],
          "name": "stdout"
        }
      ]
    },
    {
      "cell_type": "markdown",
      "metadata": {
        "id": "UQ_K_V7sABmM"
      },
      "source": [
        "## Entrenamiento de modelos\n",
        "\n",
        "Se deberá cargar de la base de datos el conjunto de datos limpio y se deberá entrenar dos modelos de clasificación (a escoger por los estudiantes). Se espera que se utilice el protocolo estándar de k-fold cross validation además de dejar un conjunto adicional para validación final.\n",
        "\n",
        "  * Uso de protocolo K-fold cross validation, apoyándose en funciones Spark (10 puntos).\n",
        "  * Entrenamiento de dos modelos (10 cada uno)-\n",
        "    * En este rubro se incluye analizar métricas sobre el conjunto de datos de entrenamiento (en la siguiente sección se evalúa el conjunto de validación).\n"
      ]
    },
    {
      "cell_type": "code",
      "metadata": {
        "id": "o1DW64l8Tb3u",
        "colab": {
          "base_uri": "https://localhost:8080/"
        },
        "outputId": "4f1157a2-e1f8-4a80-a20c-e26d697ffe77"
      },
      "source": [
        "#regresión lineal\n",
        "regression = LinearRegression(featuresCol='scaled', labelCol='class')\n",
        "regression_model = regression.fit(dfscaled)\n",
        "\n",
        "print('Pesos: {}\\n b: {}'.format(regression_model.coefficients, regression_model.intercept))\n",
        "print('RMSE: {} r2: {}'.format(regression_model.summary.rootMeanSquaredError, regression_model.summary.r2))\n",
        "\n",
        "dfscaled.describe().show()\n",
        "\n",
        "# Si se quiere hacer predicciones nada más se requiere llamar a regression_model.transform(df)\n",
        "# Esto regresa el dataset con una columna nueva"
      ],
      "execution_count": 34,
      "outputs": [
        {
          "output_type": "stream",
          "text": [
            "Pesos: [0.0733932751520145,0.05874305072998934,-0.24959025456685685,0.15801420379219885]\n",
            " b: -0.5789395993959092\n",
            "RMSE: 0.3301028273121496 r2: 0.5641284936021005\n",
            "+-------+------------------+\n",
            "|summary|             class|\n",
            "+-------+------------------+\n",
            "|  count|              3642|\n",
            "|   mean|               0.5|\n",
            "| stddev|0.5000686577414831|\n",
            "|    min|                 0|\n",
            "|    max|                 1|\n",
            "+-------+------------------+\n",
            "\n"
          ],
          "name": "stdout"
        }
      ]
    },
    {
      "cell_type": "markdown",
      "metadata": {
        "id": "crYOBJDUAJu8"
      },
      "source": [
        "## Evaluación de conjunto de validación\n",
        "\n",
        "Para cada uno de los modelos se espera que los estudiantes los evalúen y generen una predicción persistente en base de datos. Como evaluaremos dos modelos deberá crearse tablas llamadas modelo1 y modelo2 (con overwrite) en la base de datos, que tendrán las mismas columnas que tarea3 con una adicional llamada prediccion, que mostrará el resultado predicho de cada modelo.\n",
        "\n",
        "Además, deberá mostrarse un análisis de resultados dentro del notebook para cada modelo, comparando los resultados de cada uno.\n",
        "\n",
        "  * Evaluación y almacenado de modelo1 (10 puntos).\n",
        "  * Evaluación y almacenado de modelo2 (10 puntos).\n",
        "  * Análisis de resultados (10 puntos).\n"
      ]
    },
    {
      "cell_type": "markdown",
      "metadata": {
        "id": "XJR-cSPD-YZf"
      },
      "source": [
        "---"
      ]
    }
  ]
}